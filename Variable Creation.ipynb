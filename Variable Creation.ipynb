{
 "cells": [
  {
   "cell_type": "code",
   "execution_count": 1,
   "metadata": {},
   "outputs": [],
   "source": [
    "import pandas as pd\n",
    "import numpy as np\n",
    "import scipy.stats as sps \n",
    "import matplotlib.pyplot as plt \n",
    "import seaborn as sns\n",
    "import sklearn as skl\n",
    "from sklearn import preprocessing \n",
    "%matplotlib inline"
   ]
  },
  {
   "cell_type": "code",
   "execution_count": 2,
   "metadata": {},
   "outputs": [
    {
     "name": "stdout",
     "output_type": "stream",
     "text": [
      "CPU times: user 210 ms, sys: 40.6 ms, total: 251 ms\n",
      "Wall time: 252 ms\n"
     ]
    }
   ],
   "source": [
    "%%time\n",
    "data=pd.read_csv('after_fill_missing.csv', index_col=0)"
   ]
  },
  {
   "cell_type": "code",
   "execution_count": 3,
   "metadata": {},
   "outputs": [],
   "source": [
    "from datetime import datetime\n",
    "data['Date'] = pd.to_datetime(pd.Series(data['Date']), infer_datetime_format=True)"
   ]
  },
  {
   "cell_type": "code",
   "execution_count": 5,
   "metadata": {},
   "outputs": [
    {
     "name": "stdout",
     "output_type": "stream",
     "text": [
      "CPU times: user 2min 19s, sys: 1.24 s, total: 2min 21s\n",
      "Wall time: 2min 21s\n"
     ]
    }
   ],
   "source": [
    "%%time\n",
    "#Merchnum\n",
    "for groupbyvar in ['Merchnum']:\n",
    "    data_sorted = data.sort_values(by = [groupbyvar, 'Date'])\n",
    "    data_sorted_index = data_sorted.set_index('Date')\n",
    "    for agg in ['mean', 'max', 'median', 'sum', 'count']: \n",
    "        for days in [1,2,4,8,15,31]:\n",
    "            data_sorted[agg + '_' + groupbyvar + \"_\" + str(days-1)+'d']=getattr(data_sorted_index.groupby(groupbyvar)['Amount'].rolling(str(days)+'d'),agg)().values\n",
    "            data_sorted['Actual/' + agg + \"_\" + groupbyvar + \"_\" + str(days-1)+'d'] = data_sorted['Amount']/data_sorted[agg + '_' + groupbyvar + \"_\" + str(days-1)+'d']"
   ]
  },
  {
   "cell_type": "code",
   "execution_count": 10,
   "metadata": {},
   "outputs": [
    {
     "name": "stderr",
     "output_type": "stream",
     "text": [
      "/anaconda3/lib/python3.7/site-packages/ipykernel_launcher.py:3: FutureWarning: 'Date' is both an index level and a column label.\n",
      "Defaulting to column, but this will raise an ambiguity error in a future version\n",
      "  This is separate from the ipykernel package so we can avoid doing imports until\n"
     ]
    },
    {
     "name": "stdout",
     "output_type": "stream",
     "text": [
      "CPU times: user 19.5 s, sys: 642 ms, total: 20.1 s\n",
      "Wall time: 19.9 s\n"
     ]
    }
   ],
   "source": [
    "%%time\n",
    "#Cardnum\n",
    "for groupbyvar in ['Cardnum']:\n",
    "    data_sorted = data_sorted.sort_values(by = [groupbyvar, 'Date'])\n",
    "    data_sorted_index = data_sorted.set_index('Date')\n",
    "    for agg in ['mean', 'max', 'median', 'sum', 'count']: \n",
    "        for days in [1,2,4,8,15,31]:\n",
    "            data_sorted[agg + '_' + groupbyvar + \"_\" + str(days-1)+'d']=getattr(data_sorted_index.groupby(groupbyvar)['Amount'].rolling(str(days)+'d'),agg)().values\n",
    "            data_sorted['Actual/' + agg + \"_\" + groupbyvar + \"_\" + str(days-1)+'d'] = data_sorted['Amount']/data_sorted[agg + '_' + groupbyvar + \"_\" + str(days-1)+'d']"
   ]
  },
  {
   "cell_type": "code",
   "execution_count": 6,
   "metadata": {},
   "outputs": [
    {
     "name": "stdout",
     "output_type": "stream",
     "text": [
      "CPU times: user 17min 29s, sys: 20.4 s, total: 17min 50s\n",
      "Wall time: 18min\n"
     ]
    }
   ],
   "source": [
    "%%time\n",
    "#Cardnum and Merchnum, Cardnum and Zip, Cardnum and state\n",
    "for groupbyvar in ['Merchnum', 'Merch zip', 'Merch state']:\n",
    "    data_sorted = data_sorted.sort_values(by = ['Cardnum',groupbyvar, 'Date'])\n",
    "    data_sorted_index = data_sorted.set_index('Date')\n",
    "    for agg in ['mean', 'max', 'median', 'sum', 'count']: \n",
    "        for days in [1,2,4,8,15,31]:\n",
    "            data_sorted[agg + '_' + \"Cardnum_\" + groupbyvar + \"_\" + str(days-1)+'d'] = getattr(data_sorted_index.groupby(['Cardnum',groupbyvar])['Amount'].rolling(str(days)+'d'),agg)().values\n",
    "            data_sorted['Actual/' + agg + \"_\" + \"Cardnum_\" + groupbyvar + \"_\" + str(days-1)+'d'] = data_sorted['Amount']/data_sorted[agg + '_' + \"Cardnum_\" + groupbyvar + \"_\" + str(days-1)+'d']            \n"
   ]
  },
  {
   "cell_type": "code",
   "execution_count": 7,
   "metadata": {},
   "outputs": [
    {
     "name": "stdout",
     "output_type": "stream",
     "text": [
      "CPU times: user 1min 13s, sys: 2.15 s, total: 1min 15s\n",
      "Wall time: 1min 14s\n"
     ]
    }
   ],
   "source": [
    "%%time\n",
    "#Create days since variables\n",
    "for groupbyvar in [['Cardnum'], ['Merchnum'], ['Cardnum', 'Merchnum'], ['Cardnum', 'Merch zip'], ['Cardnum', 'Merch state']]:\n",
    "    sortCols = groupbyvar[:]\n",
    "    sortCols.append('Date')\n",
    "    data_sorted = data_sorted.sort_values(by = sortCols)\n",
    "    if len(groupbyvar) == 1:\n",
    "        data_sorted['Days_since_per_' + groupbyvar[0]] = data_sorted.groupby(groupbyvar)['Date'].apply(lambda x: (x - x.shift(1)).astype('timedelta64[D]')).fillna(365).values \n",
    "    else:\n",
    "        data_sorted['Days_since_per_Cardnum_' + groupbyvar[1]] = data_sorted.groupby(groupbyvar)['Date'].apply(lambda x: (x -x.shift(1)).astype('timedelta64[D]')).fillna(365).values \n"
   ]
  },
  {
   "cell_type": "code",
   "execution_count": null,
   "metadata": {},
   "outputs": [],
   "source": [
    "###!!!!!!!!!check the index for the head of dataset first and need to set date as index"
   ]
  },
  {
   "cell_type": "code",
   "execution_count": 8,
   "metadata": {},
   "outputs": [],
   "source": [
    "data_sorted.index = data_sorted['Date']"
   ]
  },
  {
   "cell_type": "code",
   "execution_count": null,
   "metadata": {},
   "outputs": [],
   "source": [
    "data_sorted"
   ]
  },
  {
   "cell_type": "code",
   "execution_count": 9,
   "metadata": {},
   "outputs": [
    {
     "name": "stdout",
     "output_type": "stream",
     "text": [
      "CPU times: user 20min 31s, sys: 29.4 s, total: 21min 1s\n",
      "Wall time: 21min 13s\n"
     ]
    }
   ],
   "source": [
    "%%time\n",
    "##Frequency\n",
    "\n",
    "name=['Card_Fre','Merch_Fre','Card/Merch_Fre','Card/Zip_Fre','Card/State_Fre']\n",
    "df={}\n",
    "for group in [['Cardnum'], ['Merchnum'], ['Cardnum', 'Merchnum'], ['Cardnum', 'Merch zip'], ['Cardnum', 'Merch state']]:\n",
    "    for days in [1,2,4,8,15,31]:\n",
    "        for n in name:\n",
    "            df[n]=pd.DataFrame(data_sorted.groupby(group)['Amount'].rolling(str(days)+'d').count().reset_index())\n",
    "            df[n]=df[n].groupby(group)['Amount'].transform(max).reset_index()\n",
    "            data_sorted[str(n)+str(days-1)]=df[n].iloc[:,-1].values  "
   ]
  },
  {
   "cell_type": "code",
   "execution_count": 14,
   "metadata": {},
   "outputs": [
    {
     "name": "stdout",
     "output_type": "stream",
     "text": [
      "CPU times: user 27.3 ms, sys: 5.62 ms, total: 32.9 ms\n",
      "Wall time: 24.5 ms\n"
     ]
    }
   ],
   "source": [
    "%%time\n",
    "##number of transaction Velocity\n",
    "\n",
    "name_vel=['Card_Fre','Merch_Fre']\n",
    "for days in [1,2]:\n",
    "    for days1 in [8,15,31]:\n",
    "        for n in name_vel:\n",
    "            data_sorted[str(n)+str(days-1)+'/'+str(days1-1)+'Vel']=data_sorted[str(n)+str(days-1)]/(data_sorted[str(n)+str(days1-1)]/(days1-1))\n"
   ]
  },
  {
   "cell_type": "code",
   "execution_count": 12,
   "metadata": {},
   "outputs": [
    {
     "name": "stdout",
     "output_type": "stream",
     "text": [
      "CPU times: user 40.1 ms, sys: 9.61 ms, total: 49.8 ms\n",
      "Wall time: 34.3 ms\n"
     ]
    }
   ],
   "source": [
    "%%time\n",
    "##Amount Velocity\n",
    "\n",
    "name_vel=['Cardnum', 'Merchnum']\n",
    "for days in [1,2]:\n",
    "    for days1 in [8,15,31]:\n",
    "        for n in name_vel:\n",
    "            data_sorted['AMT'+str(n)+str(days-1)+'/'+str(days1-1)+'Vel']=data_sorted['sum' + '_' + n + \"_\" + str(days-1)+'d']/(data_sorted['sum' + '_' + n + \"_\" + str(days1-1)+'d']/(days1-1))\n",
    "         "
   ]
  },
  {
   "cell_type": "code",
   "execution_count": 16,
   "metadata": {},
   "outputs": [
    {
     "data": {
      "text/plain": [
       "930090121224     11525\n",
       "5509006296254     2131\n",
       "9900020006406     1714\n",
       "602608969534      1093\n",
       "4353000719908     1022\n",
       "410000971343       982\n",
       "9918000409955      958\n",
       "5725000466504      872\n",
       "9108234610000      817\n",
       "602608969138       783\n",
       "4503082476300      748\n",
       "2094206450000      590\n",
       "4063000739258      570\n",
       "2094330000009      534\n",
       "6920602000804      523\n",
       "8834000695412      479\n",
       "4591200814444      463\n",
       "602608969284       442\n",
       "9900000037306      435\n",
       "6859858914649      432\n",
       "806967335334       431\n",
       "2603800006005      421\n",
       "6170666166         392\n",
       "7725000069608      362\n",
       "809946579333       345\n",
       "9108234610006      344\n",
       "602608964157       309\n",
       "08-0963129334      307\n",
       "9108347680000      286\n",
       "9900000036906      285\n",
       "                 ...  \n",
       "6072365000066        1\n",
       "2722000934765        1\n",
       "900009056002         1\n",
       "4800000622540        1\n",
       "35966257330          1\n",
       "60046726667          1\n",
       "8057000446202        1\n",
       "700989109            1\n",
       "6070011930005        1\n",
       "7739600093614        1\n",
       "6129602005583        1\n",
       "8008770048906        1\n",
       "5900000007913        1\n",
       "447786005880         1\n",
       "8002020627660        1\n",
       "5104024408152        1\n",
       "5206100812287        1\n",
       "9037576210762        1\n",
       "4046000729403        1\n",
       "918230               1\n",
       "4590990608177        1\n",
       "500020091106         1\n",
       "6000330604273        1\n",
       "8060636442000        1\n",
       "713800650006         1\n",
       "1016065959837        1\n",
       "4568130490600        1\n",
       "836300690033         1\n",
       "876627               1\n",
       "609000651734         1\n",
       "Name: Merchnum, Length: 13091, dtype: int64"
      ]
     },
     "execution_count": 16,
     "metadata": {},
     "output_type": "execute_result"
    }
   ],
   "source": [
    "data_sorted['Merchnum'].value_counts()"
   ]
  },
  {
   "cell_type": "code",
   "execution_count": 14,
   "metadata": {},
   "outputs": [],
   "source": [
    "data_sorted.to_csv(\"final data.csv\")"
   ]
  },
  {
   "cell_type": "code",
   "execution_count": 18,
   "metadata": {},
   "outputs": [
    {
     "data": {
      "text/plain": [
       "0"
      ]
     },
     "execution_count": 18,
     "metadata": {},
     "output_type": "execute_result"
    }
   ],
   "source": [
    "a=0\n",
    "for i in data_sorted['Merchnum']:\n",
    "    if str(i)== 0:\n",
    "        a+=1\n",
    "a"
   ]
  },
  {
   "cell_type": "code",
   "execution_count": null,
   "metadata": {},
   "outputs": [],
   "source": []
  }
 ],
 "metadata": {
  "kernelspec": {
   "display_name": "Python 3",
   "language": "python",
   "name": "python3"
  },
  "language_info": {
   "codemirror_mode": {
    "name": "ipython",
    "version": 3
   },
   "file_extension": ".py",
   "mimetype": "text/x-python",
   "name": "python",
   "nbconvert_exporter": "python",
   "pygments_lexer": "ipython3",
   "version": "3.7.1"
  }
 },
 "nbformat": 4,
 "nbformat_minor": 2
}
